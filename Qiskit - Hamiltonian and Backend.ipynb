{
 "cells": [
  {
   "cell_type": "code",
   "execution_count": 1,
   "metadata": {},
   "outputs": [],
   "source": [
    "import copy\n",
    "import numpy as np\n",
    "from qiskit import Aer, IBMQ, execute, QuantumCircuit, circuit, pulse, transpile, schedule, assemble\n",
    "from qiskit.providers.aer.pulse.system_models.pulse_system_model import PulseSystemModel\n",
    "from qiskit.providers.aer.backends import PulseSimulator\n",
    "\n",
    "import matplotlib.pyplot as plt"
   ]
  },
  {
   "cell_type": "code",
   "execution_count": 2,
   "metadata": {},
   "outputs": [
    {
     "name": "stderr",
     "output_type": "stream",
     "text": [
      "/Users/thomas/opt/anaconda3/envs/qiskit-3.8/lib/python3.8/site-packages/qiskit/providers/ibmq/ibmqfactory.py:192: UserWarning: Timestamps in IBMQ backend properties, jobs, and job results are all now in local time instead of UTC.\n",
      "  warnings.warn('Timestamps in IBMQ backend properties, jobs, and job results '\n"
     ]
    }
   ],
   "source": [
    "IBMQ.load_account()\n",
    "provider = IBMQ.get_provider(hub='ibm-q-internal', group='dev-sys-software', project='internal-test')"
   ]
  },
  {
   "cell_type": "code",
   "execution_count": 3,
   "metadata": {},
   "outputs": [],
   "source": [
    "backend = provider.get_backend('ibmq_armonk')"
   ]
  },
  {
   "cell_type": "code",
   "execution_count": 4,
   "metadata": {},
   "outputs": [],
   "source": [
    "config = backend.configuration()\n",
    "defaults = backend.defaults()"
   ]
  },
  {
   "cell_type": "code",
   "execution_count": 5,
   "metadata": {},
   "outputs": [
    {
     "name": "stdout",
     "output_type": "stream",
     "text": [
      "['_SUM[i,0,0,wq{i}/2*(I{i}-Z{i})]', '_SUM[i,0,0,delta{i}/2*O{i}*O{i}]', '_SUM[i,0,0,-delta{i}/2*O{i}]', '_SUM[i,0,0,omegad{i}*X{i}||D{i}]']\n",
      "{}\n",
      "{'delta0': 0, 'omegad0': 0.03672940823863659, 'wq0': 31.255348447861333}\n"
     ]
    }
   ],
   "source": [
    "hamiltonian = config.hamiltonian\n",
    "print(hamiltonian['h_str'])\n",
    "print(hamiltonian['osc'])\n",
    "print(hamiltonian['vars'])"
   ]
  },
  {
   "cell_type": "code",
   "execution_count": 6,
   "metadata": {},
   "outputs": [
    {
     "data": {
      "text/plain": [
       "2.2222222222222221e-10"
      ]
     },
     "execution_count": 6,
     "metadata": {},
     "output_type": "execute_result"
    }
   ],
   "source": [
    "config.dt"
   ]
  },
  {
   "cell_type": "markdown",
   "metadata": {},
   "source": [
    "## Original Model"
   ]
  },
  {
   "cell_type": "code",
   "execution_count": 7,
   "metadata": {},
   "outputs": [],
   "source": [
    "orig_model = PulseSystemModel.from_backend(backend)"
   ]
  },
  {
   "cell_type": "code",
   "execution_count": 8,
   "metadata": {},
   "outputs": [
    {
     "data": {
      "text/plain": [
       "<qiskit.circuit.instructionset.InstructionSet at 0x7faca164fa00>"
      ]
     },
     "execution_count": 8,
     "metadata": {},
     "output_type": "execute_result"
    }
   ],
   "source": [
    "qc = QuantumCircuit(1, 1)\n",
    "qc.x(0)\n",
    "qc.measure(0, 0)"
   ]
  },
  {
   "cell_type": "code",
   "execution_count": 9,
   "metadata": {},
   "outputs": [],
   "source": [
    "sched = schedule(transpile(qc, backend), backend)"
   ]
  },
  {
   "cell_type": "code",
   "execution_count": 10,
   "metadata": {},
   "outputs": [],
   "source": [
    "sim = PulseSimulator()"
   ]
  },
  {
   "cell_type": "code",
   "execution_count": 11,
   "metadata": {},
   "outputs": [
    {
     "name": "stderr",
     "output_type": "stream",
     "text": [
      "/Users/thomas/opt/anaconda3/envs/qiskit-3.8/lib/python3.8/site-packages/qiskit/compiler/assemble.py:320: RuntimeWarning: Dynamic rep rates not supported on this backend. rep_time will be used instead of rep_delay.\n",
      "  warnings.warn(\n",
      "/Users/thomas/opt/anaconda3/envs/qiskit-3.8/lib/python3.8/site-packages/qiskit/pulse/library/parametric_pulses.py:77: DeprecationWarning: `get_sample_pulse` has been deprecated.  Use `get_waveform` instead.\n",
      "  warnings.warn('`get_sample_pulse` has been deprecated. '\n",
      "/Users/thomas/opt/anaconda3/envs/qiskit-3.8/lib/python3.8/site-packages/qiskit/pulse/library/parametric_pulses.py:77: DeprecationWarning: `get_sample_pulse` has been deprecated.  Use `get_waveform` instead.\n",
      "  warnings.warn('`get_sample_pulse` has been deprecated. '\n",
      "/Users/thomas/opt/anaconda3/envs/qiskit-3.8/lib/python3.8/site-packages/qiskit/pulse/library/parametric_pulses.py:77: DeprecationWarning: `get_sample_pulse` has been deprecated.  Use `get_waveform` instead.\n",
      "  warnings.warn('`get_sample_pulse` has been deprecated. '\n"
     ]
    }
   ],
   "source": [
    "qobj = assemble(sched, backend=sim)"
   ]
  },
  {
   "cell_type": "code",
   "execution_count": 12,
   "metadata": {},
   "outputs": [],
   "source": [
    "job = sim.run(qobj, system_model=orig_model)"
   ]
  },
  {
   "cell_type": "code",
   "execution_count": 13,
   "metadata": {},
   "outputs": [],
   "source": [
    "result = job.result()"
   ]
  },
  {
   "cell_type": "code",
   "execution_count": 14,
   "metadata": {},
   "outputs": [
    {
     "data": {
      "text/plain": [
       "{'0': 1024}"
      ]
     },
     "execution_count": 14,
     "metadata": {},
     "output_type": "execute_result"
    }
   ],
   "source": [
    "result.get_counts()"
   ]
  },
  {
   "cell_type": "markdown",
   "metadata": {},
   "source": [
    "## Modified Model"
   ]
  },
  {
   "cell_type": "code",
   "execution_count": 15,
   "metadata": {},
   "outputs": [],
   "source": [
    "new_backend = copy.deepcopy(backend)\n",
    "new_config = new_backend.configuration()\n",
    "new_defaults = new_backend.defaults()"
   ]
  },
  {
   "cell_type": "code",
   "execution_count": 16,
   "metadata": {},
   "outputs": [],
   "source": [
    "new_hamiltonian = new_config.hamiltonian"
   ]
  },
  {
   "cell_type": "markdown",
   "metadata": {},
   "source": [
    "### Modifications"
   ]
  },
  {
   "cell_type": "code",
   "execution_count": 17,
   "metadata": {},
   "outputs": [],
   "source": [
    "new_hamiltonian['vars'] = {k: v*1e9 for k, v in new_hamiltonian['vars'].items()}\n",
    "new_hamiltonian['qub'] = {k: 3 for k in new_hamiltonian['qub'].keys()}\n",
    "new_hamiltonian['vars']['omegad0'] = new_hamiltonian['vars']['omegad0']*2\n",
    "new_hamiltonian['vars']['delta0'] = -330e7"
   ]
  },
  {
   "cell_type": "code",
   "execution_count": 18,
   "metadata": {},
   "outputs": [
    {
     "name": "stdout",
     "output_type": "stream",
     "text": [
      "['_SUM[i,0,0,wq{i}/2*(I{i}-Z{i})]', '_SUM[i,0,0,delta{i}/2*O{i}*O{i}]', '_SUM[i,0,0,-delta{i}/2*O{i}]', '_SUM[i,0,0,omegad{i}*X{i}||D{i}]']\n",
      "{}\n",
      "{'0': 3}\n",
      "{'delta0': -3300000000.0, 'omegad0': 73458816.47727318, 'wq0': 31255348447.861332}\n"
     ]
    }
   ],
   "source": [
    "hamiltonian = config.hamiltonian\n",
    "print(new_hamiltonian['h_str'])\n",
    "print(new_hamiltonian['osc'])\n",
    "print(new_hamiltonian['qub'])\n",
    "print(new_hamiltonian['vars'])"
   ]
  },
  {
   "cell_type": "code",
   "execution_count": 19,
   "metadata": {},
   "outputs": [],
   "source": [
    "new_model = PulseSystemModel.from_backend(new_backend)"
   ]
  },
  {
   "cell_type": "code",
   "execution_count": 20,
   "metadata": {},
   "outputs": [],
   "source": [
    "job = sim.run(qobj, system_model=new_model)"
   ]
  },
  {
   "cell_type": "code",
   "execution_count": 21,
   "metadata": {},
   "outputs": [],
   "source": [
    "result = job.result()"
   ]
  },
  {
   "cell_type": "code",
   "execution_count": 22,
   "metadata": {},
   "outputs": [
    {
     "data": {
      "text/plain": [
       "{'0': 46, '1': 978}"
      ]
     },
     "execution_count": 22,
     "metadata": {},
     "output_type": "execute_result"
    }
   ],
   "source": [
    "result.get_counts()"
   ]
  },
  {
   "cell_type": "code",
   "execution_count": 23,
   "metadata": {},
   "outputs": [
    {
     "data": {
      "text/plain": [
       "[4974443203.53673]"
      ]
     },
     "execution_count": 23,
     "metadata": {},
     "output_type": "execute_result"
    }
   ],
   "source": [
    "new_defaults.qubit_freq_est"
   ]
  },
  {
   "cell_type": "markdown",
   "metadata": {},
   "source": [
    "# 2Q Backend"
   ]
  },
  {
   "cell_type": "markdown",
   "metadata": {},
   "source": [
    "## Original"
   ]
  },
  {
   "cell_type": "code",
   "execution_count": 24,
   "metadata": {},
   "outputs": [],
   "source": [
    "backend_2q = provider.get_backend('ibmq_manhattan')"
   ]
  },
  {
   "cell_type": "code",
   "execution_count": 25,
   "metadata": {},
   "outputs": [],
   "source": [
    "orig_config_2q = backend_2q.configuration()\n",
    "orig_defaults_2q = backend_2q.defaults()"
   ]
  },
  {
   "cell_type": "code",
   "execution_count": 26,
   "metadata": {},
   "outputs": [],
   "source": [
    "orig_model_2q = PulseSystemModel.from_backend(backend_2q, subsystem_list=[0, 1])"
   ]
  },
  {
   "cell_type": "code",
   "execution_count": 27,
   "metadata": {},
   "outputs": [
    {
     "name": "stdout",
     "output_type": "stream",
     "text": [
      "['_SUM[i,0,64,wq{i}/2*(I{i}-Z{i})]', '_SUM[i,0,64,delta{i}/2*O{i}*O{i}]', '_SUM[i,0,64,-delta{i}/2*O{i}]', '_SUM[i,0,64,omegad{i}*X{i}||D{i}]', 'jq42q43*Sp42*Sm43', 'jq42q43*Sm42*Sp43', 'jq22q23*Sp22*Sm23', 'jq22q23*Sm22*Sp23', 'jq36q37*Sp36*Sm37', 'jq36q37*Sm36*Sp37', 'jq28q29*Sp28*Sm29', 'jq28q29*Sm28*Sp29', 'jq53q60*Sp53*Sm60', 'jq53q60*Sm53*Sp60', 'jq61q62*Sp61*Sm62', 'jq61q62*Sm61*Sp62', 'jq5q6*Sp5*Sm6', 'jq5q6*Sm5*Sp6', 'jq8q9*Sp8*Sm9', 'jq8q9*Sm8*Sp9', 'jq34q35*Sp34*Sm35', 'jq34q35*Sm34*Sp35', 'jq18q19*Sp18*Sm19', 'jq18q19*Sm18*Sp19', 'jq23q26*Sp23*Sm26', 'jq23q26*Sm23*Sp26', 'jq0q10*Sp0*Sm10', 'jq0q10*Sm0*Sp10', 'jq51q54*Sp51*Sm54', 'jq51q54*Sm51*Sp54', 'jq59q60*Sp59*Sm60', 'jq59q60*Sm59*Sp60', 'jq30q31*Sp30*Sm31', 'jq30q31*Sm30*Sp31', 'jq46q47*Sp46*Sm47', 'jq46q47*Sm46*Sp47', 'jq31q32*Sp31*Sm32', 'jq31q32*Sm31*Sp32', 'jq63q64*Sp63*Sm64', 'jq63q64*Sm63*Sp64', 'jq49q50*Sp49*Sm50', 'jq49q50*Sm49*Sp50', 'jq1q2*Sp1*Sm2', 'jq1q2*Sm1*Sp2', 'jq16q17*Sp16*Sm17', 'jq16q17*Sm16*Sp17', 'jq32q33*Sp32*Sm33', 'jq32q33*Sm32*Sp33', 'jq6q7*Sp6*Sm7', 'jq6q7*Sm6*Sp7', 'jq58q59*Sp58*Sm59', 'jq58q59*Sm58*Sp59', 'jq44q45*Sp44*Sm45', 'jq44q45*Sm44*Sp45', 'jq20q21*Sp20*Sm21', 'jq20q21*Sm20*Sp21', 'jq47q53*Sp47*Sm53', 'jq47q53*Sm47*Sp53', 'jq39q45*Sp39*Sm45', 'jq39q45*Sm39*Sp45', 'jq56q57*Sp56*Sm57', 'jq56q57*Sm56*Sp57', 'jq35q40*Sp35*Sm40', 'jq35q40*Sm35*Sp40', 'jq19q25*Sp19*Sm25', 'jq19q25*Sm19*Sp25', 'jq3q4*Sp3*Sm4', 'jq3q4*Sm3*Sp4', 'jq27q28*Sp27*Sm28', 'jq27q28*Sm27*Sp28', 'jq35q36*Sp35*Sm36', 'jq35q36*Sm35*Sp36', 'jq47q48*Sp47*Sm48', 'jq47q48*Sm47*Sp48', 'jq54q64*Sp54*Sm64', 'jq54q64*Sm54*Sp64', 'jq12q21*Sp12*Sm21', 'jq12q21*Sm12*Sp21', 'jq38q41*Sp38*Sm41', 'jq38q41*Sm38*Sp41', 'jq31q39*Sp31*Sm39', 'jq31q39*Sm31*Sp39', 'jq60q61*Sp60*Sm61', 'jq60q61*Sm60*Sp61', 'jq4q5*Sp4*Sm5', 'jq4q5*Sm4*Sp5', 'jq29q30*Sp29*Sm30', 'jq29q30*Sm29*Sp30', 'jq10q13*Sp10*Sm13', 'jq10q13*Sm10*Sp13', 'jq41q42*Sp41*Sm42', 'jq41q42*Sm41*Sp42', 'jq26q37*Sp26*Sm37', 'jq26q37*Sm26*Sp37', 'jq50q51*Sp50*Sm51', 'jq50q51*Sm50*Sp51', 'jq2q3*Sp2*Sm3', 'jq2q3*Sm2*Sp3', 'jq14q15*Sp14*Sm15', 'jq14q15*Sm14*Sp15', 'jq62q63*Sp62*Sm63', 'jq62q63*Sm62*Sp63', 'jq40q49*Sp40*Sm49', 'jq40q49*Sm40*Sp49', 'jq19q20*Sp19*Sm20', 'jq19q20*Sm19*Sp20', 'jq55q56*Sp55*Sm56', 'jq55q56*Sm55*Sp56', 'jq4q11*Sp4*Sm11', 'jq4q11*Sm4*Sp11', 'jq43q44*Sp43*Sm44', 'jq43q44*Sm43*Sp44', 'jq48q49*Sp48*Sm49', 'jq48q49*Sm48*Sp49', 'jq33q34*Sp33*Sm34', 'jq33q34*Sm33*Sp34', 'jq0q1*Sp0*Sm1', 'jq0q1*Sm0*Sp1', 'jq17q18*Sp17*Sm18', 'jq17q18*Sm17*Sp18', 'jq7q8*Sp7*Sm8', 'jq7q8*Sm7*Sp8', 'jq11q17*Sp11*Sm17', 'jq11q17*Sm11*Sp17', 'jq15q24*Sp15*Sm24', 'jq15q24*Sm15*Sp24', 'jq8q12*Sp8*Sm12', 'jq8q12*Sm8*Sp12', 'jq45q46*Sp45*Sm46', 'jq45q46*Sm45*Sp46', 'jq52q56*Sp52*Sm56', 'jq52q56*Sm52*Sp56', 'jq24q29*Sp24*Sm29', 'jq24q29*Sm24*Sp29', 'jq13q14*Sp13*Sm14', 'jq13q14*Sm13*Sp14', 'jq21q22*Sp21*Sm22', 'jq21q22*Sm21*Sp22', 'jq27q38*Sp27*Sm38', 'jq27q38*Sm27*Sp38', 'jq57q58*Sp57*Sm58', 'jq57q58*Sm57*Sp58', 'jq43q52*Sp43*Sm52', 'jq43q52*Sm43*Sp52', 'jq25q33*Sp25*Sm33', 'jq25q33*Sm25*Sp33', 'jq15q16*Sp15*Sm16', 'jq15q16*Sm15*Sp16', 'omegad1*X0||U0', 'omegad10*X0||U1', 'omegad0*X1||U2', 'omegad2*X1||U3', 'omegad1*X2||U4', 'omegad3*X2||U5', 'omegad4*X3||U7', 'omegad2*X3||U6', 'omegad5*X4||U9', 'omegad3*X4||U8', 'omegad11*X4||U10', 'omegad4*X5||U11', 'omegad6*X5||U12', 'omegad7*X6||U14', 'omegad5*X6||U13', 'omegad6*X7||U15', 'omegad8*X7||U16', 'omegad12*X8||U19', 'omegad9*X8||U18', 'omegad7*X8||U17', 'omegad8*X9||U20', 'omegad0*X10||U21', 'omegad13*X10||U22', 'omegad4*X11||U23', 'omegad17*X11||U24', 'omegad21*X12||U26', 'omegad8*X12||U25', 'omegad10*X13||U27', 'omegad14*X13||U28', 'omegad15*X14||U30', 'omegad13*X14||U29', 'omegad24*X15||U33', 'omegad14*X15||U31', 'omegad16*X15||U32', 'omegad15*X16||U34', 'omegad17*X16||U35', 'omegad18*X17||U38', 'omegad16*X17||U37', 'omegad11*X17||U36', 'omegad19*X18||U40', 'omegad17*X18||U39', 'omegad18*X19||U41', 'omegad25*X19||U43', 'omegad20*X19||U42', 'omegad21*X20||U45', 'omegad19*X20||U44', 'omegad20*X21||U47', 'omegad12*X21||U46', 'omegad22*X21||U48', 'omegad23*X22||U50', 'omegad21*X22||U49', 'omegad26*X23||U52', 'omegad22*X23||U51', 'omegad15*X24||U53', 'omegad29*X24||U54', 'omegad33*X25||U56', 'omegad19*X25||U55', 'omegad37*X26||U58', 'omegad23*X26||U57', 'omegad28*X27||U59', 'omegad38*X27||U60', 'omegad29*X28||U62', 'omegad27*X28||U61', 'omegad24*X29||U63', 'omegad30*X29||U65', 'omegad28*X29||U64', 'omegad31*X30||U67', 'omegad29*X30||U66', 'omegad39*X31||U70', 'omegad30*X31||U68', 'omegad32*X31||U69', 'omegad33*X32||U72', 'omegad31*X32||U71', 'omegad32*X33||U74', 'omegad34*X33||U75', 'omegad25*X33||U73', 'omegad33*X34||U76', 'omegad35*X34||U77', 'omegad36*X35||U79', 'omegad34*X35||U78', 'omegad40*X35||U80', 'omegad37*X36||U82', 'omegad35*X36||U81', 'omegad26*X37||U83', 'omegad36*X37||U84', 'omegad41*X38||U86', 'omegad27*X38||U85', 'omegad45*X39||U88', 'omegad31*X39||U87', 'omegad35*X40||U89', 'omegad49*X40||U90', 'omegad42*X41||U92', 'omegad38*X41||U91', 'omegad43*X42||U94', 'omegad41*X42||U93', 'omegad52*X43||U97', 'omegad42*X43||U95', 'omegad44*X43||U96', 'omegad43*X44||U98', 'omegad45*X44||U99', 'omegad44*X45||U101', 'omegad39*X45||U100', 'omegad46*X45||U102', 'omegad45*X46||U103', 'omegad47*X46||U104', 'omegad48*X47||U106', 'omegad46*X47||U105', 'omegad53*X47||U107', 'omegad49*X48||U109', 'omegad47*X48||U108', 'omegad48*X49||U111', 'omegad40*X49||U110', 'omegad50*X49||U112', 'omegad51*X50||U114', 'omegad49*X50||U113', 'omegad50*X51||U115', 'omegad54*X51||U116', 'omegad56*X52||U118', 'omegad43*X52||U117', 'omegad47*X53||U119', 'omegad60*X53||U120', 'omegad64*X54||U122', 'omegad51*X54||U121', 'omegad56*X55||U123', 'omegad57*X56||U126', 'omegad52*X56||U124', 'omegad55*X56||U125', 'omegad56*X57||U127', 'omegad58*X57||U128', 'omegad59*X58||U130', 'omegad57*X58||U129', 'omegad58*X59||U131', 'omegad60*X59||U132', 'omegad59*X60||U134', 'omegad61*X60||U135', 'omegad53*X60||U133', 'omegad62*X61||U137', 'omegad60*X61||U136', 'omegad63*X62||U139', 'omegad61*X62||U138', 'omegad62*X63||U140', 'omegad64*X63||U141', 'omegad63*X64||U143', 'omegad54*X64||U142']\n",
      "{}\n",
      "{'delta0': -2.082409528201026, 'delta1': -2.108692153903296, 'delta10': -2.0955390950177173, 'delta11': -2.100958609864856, 'delta12': -2.0823524168566583, 'delta13': -2.079863390219936, 'delta14': -2.0986245342839465, 'delta15': -2.0913046165737534, 'delta16': -2.1147584685967837, 'delta17': -2.083431050881202, 'delta18': -2.0871760010235283, 'delta19': -2.079086146193932, 'delta2': -2.080054560307207, 'delta20': -2.0809593337496866, 'delta21': -2.0868952673573595, 'delta22': -2.081354695514319, 'delta23': -2.096787337379475, 'delta24': -2.0722106481259717, 'delta25': -2.080369744382093, 'delta26': -2.092116736278728, 'delta27': -2.0985738973098456, 'delta28': -2.0755414526932534, 'delta29': -2.0890822438286176, 'delta3': -2.0999212890853562, 'delta30': -2.08670780390729, 'delta31': -2.076201777361299, 'delta32': -2.070255050678703, 'delta33': -2.1040795888596437, 'delta34': -2.0877309202887857, 'delta35': -2.107373832439615, 'delta36': -2.079405179424301, 'delta37': -2.091835771162876, 'delta38': -2.075901371889025, 'delta39': -2.0904615623352276, 'delta4': -2.093628492226991, 'delta40': -2.1306861202665175, 'delta41': -2.0865518970755175, 'delta42': -2.1152611176603004, 'delta43': -2.0741726061075876, 'delta44': -2.093082321475129, 'delta45': -2.0852396753607954, 'delta46': -2.0829304635141854, 'delta47': -2.0805355428201646, 'delta48': -2.092295634525706, 'delta49': -2.0728983053097103, 'delta5': -2.1076108858437412, 'delta50': -2.086811512231418, 'delta51': -2.078875458274717, 'delta52': -2.0847345667675286, 'delta53': -2.1037851661025484, 'delta54': -2.1066228812119174, 'delta55': -2.0775332501812054, 'delta56': -2.0867337957738656, 'delta57': -2.120641152499985, 'delta58': -2.0857399265225287, 'delta59': -2.0776063293835523, 'delta6': -2.0896935883297525, 'delta60': -2.08902215551072, 'delta61': -2.1160016078860915, 'delta62': -2.089117798373012, 'delta63': -2.106330758762709, 'delta64': -2.090469682733742, 'delta7': -2.1008931274144858, 'delta8': -2.09572226614486, 'delta9': -2.081885599010024, 'jq0q1': 0.012293126322480197, 'jq0q10': 0.012506061323926414, 'jq10q13': 0.012445528646655686, 'jq11q17': 0.014292699740985727, 'jq12q21': 0.013420812572829672, 'jq13q14': 0.012806354710220087, 'jq14q15': 0.012455235392068503, 'jq15q16': 0.01392400194180702, 'jq15q24': 0.013824641378837092, 'jq16q17': 0.012025957844627774, 'jq17q18': 0.01296585887428978, 'jq18q19': 0.013479395190981156, 'jq19q20': 0.014721134228083887, 'jq19q25': 0.013361259873442314, 'jq1q2': 0.014257628792432683, 'jq20q21': 0.013718083908827651, 'jq21q22': 0.013070206591033964, 'jq22q23': 0.013192565295867128, 'jq23q26': 0.012334435215585887, 'jq24q29': 0.014622179654265583, 'jq25q33': 0.011912454565186921, 'jq26q37': 0.014236885627812433, 'jq27q28': 0.011835937472740586, 'jq27q38': 0.01253636713654229, 'jq28q29': 0.01251869485944329, 'jq29q30': 0.014432738193361454, 'jq2q3': 0.012749602059596514, 'jq30q31': 0.014817767976700003, 'jq31q32': 0.013864978685261379, 'jq31q39': 0.01269839045261408, 'jq32q33': 0.014014084477466687, 'jq33q34': 0.014006523303099622, 'jq34q35': 0.01417123882637102, 'jq35q36': 0.012256121671582123, 'jq35q40': 0.013791226499718482, 'jq36q37': 0.014636075023239822, 'jq38q41': 0.014205986579999483, 'jq39q45': 0.014673819712257608, 'jq3q4': 0.012988252166169719, 'jq40q49': 0.012321705512355174, 'jq41q42': 0.012203834781995035, 'jq42q43': 0.011744826069852273, 'jq43q44': 0.012387779554591777, 'jq43q52': 0.01318983211843102, 'jq44q45': 0.013440981657959898, 'jq45q46': 0.011177100670757341, 'jq46q47': 0.014317407226235642, 'jq47q48': 0.014282317803909025, 'jq47q53': 0.012241672335143047, 'jq48q49': 0.014084778609878017, 'jq49q50': 0.011997718139992678, 'jq4q11': 0.01359023012152749, 'jq4q5': 0.011436295161501919, 'jq50q51': 0.014022974065469465, 'jq51q54': 0.013100248864873943, 'jq52q56': 0.012232647573423192, 'jq53q60': 0.012325197151410994, 'jq54q64': 0.01384487521013418, 'jq55q56': 0.013812611788819809, 'jq56q57': 0.013923109255648576, 'jq57q58': 0.013408933599110447, 'jq58q59': 0.012615488355019093, 'jq59q60': 0.014347719071657588, 'jq5q6': 0.013696308053128872, 'jq60q61': 0.011701117396567696, 'jq61q62': 0.013949921276537719, 'jq62q63': 0.013207592452548331, 'jq63q64': 0.012358405647272436, 'jq6q7': 0.014084450205036876, 'jq7q8': 0.013883944784185722, 'jq8q12': 0.01199957126533062, 'jq8q9': 0.014509380006189681, 'omegad0': 0.6264334654141331, 'omegad1': 0.631419780468781, 'omegad10': 0.5838958897392943, 'omegad11': 0.6308713271394057, 'omegad12': 0.577503564913539, 'omegad13': 0.621186550330281, 'omegad14': 0.6314103673045489, 'omegad15': 0.6194148828480005, 'omegad16': 0.6172506451317867, 'omegad17': 0.6408159984890558, 'omegad18': 0.6539662011442007, 'omegad19': 0.6571884070536171, 'omegad2': 0.6462509921177902, 'omegad20': 0.6225908854162321, 'omegad21': 0.6281256705445246, 'omegad22': 0.6505071114174105, 'omegad23': 0.6314663125173828, 'omegad24': 0.6755771710927634, 'omegad25': 0.6390970302507333, 'omegad26': 0.624488427354995, 'omegad27': 0.6383556094430958, 'omegad28': 0.632392352711234, 'omegad29': 0.6237523585483957, 'omegad3': 0.6247568834796294, 'omegad30': 0.5990029085018763, 'omegad31': 0.691832194326318, 'omegad32': 0.6397724649390429, 'omegad33': 0.6467680503410944, 'omegad34': 0.6292330044107567, 'omegad35': 0.6527760514061987, 'omegad36': 0.6304489081165847, 'omegad37': 0.6484240812397363, 'omegad38': 0.6174642482347148, 'omegad39': 0.6042100651946496, 'omegad4': 0.6518965409608283, 'omegad40': 0.6809399557003484, 'omegad41': 0.6333505527453348, 'omegad42': 0.6394780970061896, 'omegad43': 0.6578790528145908, 'omegad44': 0.6446027768945113, 'omegad45': 0.6632369039074333, 'omegad46': 0.6664769053349452, 'omegad47': 0.6461540336265589, 'omegad48': 0.6627645941363857, 'omegad49': 0.6427112777770654, 'omegad5': 0.6371618432955588, 'omegad50': 0.4195236200078078, 'omegad51': 0.6148906289270932, 'omegad52': 0.659628706232431, 'omegad53': 0.6369133799550433, 'omegad54': 0.6375610604340113, 'omegad55': 0.6599938115114523, 'omegad56': 0.6880363237176307, 'omegad57': 0.5889289450590824, 'omegad58': 0.6544144936050909, 'omegad59': 0.6313064108503529, 'omegad6': 0.6524275002133507, 'omegad60': 0.6549005485267624, 'omegad61': 0.6325999361629198, 'omegad62': 0.6708595065367441, 'omegad63': 0.6599856427380789, 'omegad64': 0.6462098051481969, 'omegad7': 0.623283853270917, 'omegad8': 0.6481540054703282, 'omegad9': 0.6260563599396901, 'wq0': 30.399745270240917, 'wq1': 29.414023324047495, 'wq10': 29.45702295164569, 'wq11': 29.932471310478686, 'wq12': 31.03289594982276, 'wq13': 30.410808984437775, 'wq14': 29.312878947304345, 'wq15': 30.177759654767453, 'wq16': 29.212715402162154, 'wq17': 30.643159256542525, 'wq18': 30.266667630245426, 'wq19': 31.411388886673972, 'wq2': 31.079372864337696, 'wq20': 30.428998263148078, 'wq21': 30.030779004169027, 'wq22': 31.006470341087834, 'wq23': 30.141726299781823, 'wq24': 31.493417195835086, 'wq25': 30.528190301144534, 'wq26': 29.6597682398361, 'wq27': 30.157560417771204, 'wq28': 30.761130992353618, 'wq29': 30.069287167123655, 'wq3': 29.943909099482177, 'wq30': 30.726628159119226, 'wq31': 31.603435938696848, 'wq32': 30.775231606698934, 'wq33': 29.196204521312065, 'wq34': 30.038185020863885, 'wq35': 29.514436619192633, 'wq36': 31.23214832296972, 'wq37': 30.227802424158014, 'wq38': 31.227507184652485, 'wq39': 30.15619982459524, 'wq4': 29.59494515973018, 'wq40': 28.5565241723132, 'wq41': 30.16801259864324, 'wq42': 29.29834852095005, 'wq43': 30.0623888992328, 'wq44': 29.424714534819913, 'wq45': 30.98087846120028, 'wq46': 30.152547230257547, 'wq47': 30.695557754491958, 'wq48': 29.89351697171138, 'wq49': 29.28603085497892, 'wq5': 28.740616207040866, 'wq50': 30.04682803629074, 'wq51': 30.706902507301006, 'wq52': 30.78055425060818, 'wq53': 29.388650924276913, 'wq54': 29.547650368096427, 'wq55': 30.671120082634143, 'wq56': 30.130401423402283, 'wq57': 29.016323478818776, 'wq58': 30.0609014489172, 'wq59': 30.94212287735969, 'wq6': 29.897259611855304, 'wq60': 30.01533349358957, 'wq61': 29.161822871675696, 'wq62': 30.31867211510485, 'wq63': 29.51812390169834, 'wq64': 30.3611614860521, 'wq7': 29.09202400445621, 'wq8': 30.0226188177816, 'wq9': 30.971371542139835}\n"
     ]
    }
   ],
   "source": [
    "orig_hamiltonian_2q = orig_config_2q.hamiltonian\n",
    "print(orig_hamiltonian_2q['h_str'])\n",
    "print(orig_hamiltonian_2q['osc'])\n",
    "print(orig_hamiltonian_2q['vars'])"
   ]
  },
  {
   "cell_type": "code",
   "execution_count": 28,
   "metadata": {},
   "outputs": [
    {
     "data": {
      "text/plain": [
       "<qiskit.circuit.instructionset.InstructionSet at 0x7fac4001d100>"
      ]
     },
     "execution_count": 28,
     "metadata": {},
     "output_type": "execute_result"
    }
   ],
   "source": [
    "bell = QuantumCircuit(2, 2)\n",
    "bell.h(0)\n",
    "bell.cx(0, 1)\n",
    "bell.measure([0, 1], [0, 1])"
   ]
  },
  {
   "cell_type": "code",
   "execution_count": 29,
   "metadata": {},
   "outputs": [],
   "source": [
    "channels_to_drop = ([pulse.AcquireChannel(i) for i in range(2, orig_config_2q.n_qubits)]+\n",
    "                    [pulse.MeasureChannel(i) for i in range(2, orig_config_2q.n_qubits)]+\n",
    "                    [pulse.ControlChannel(0), pulse.ControlChannel(4), pulse.ControlChannel(21)])"
   ]
  },
  {
   "cell_type": "code",
   "execution_count": 30,
   "metadata": {},
   "outputs": [],
   "source": [
    "bell_sched = schedule(transpile(bell, backend_2q), backend_2q).exclude(channels=channels_to_drop)"
   ]
  },
  {
   "cell_type": "code",
   "execution_count": 31,
   "metadata": {},
   "outputs": [
    {
     "name": "stderr",
     "output_type": "stream",
     "text": [
      "/Users/thomas/opt/anaconda3/envs/qiskit-3.8/lib/python3.8/site-packages/qiskit/pulse/library/parametric_pulses.py:77: DeprecationWarning: `get_sample_pulse` has been deprecated.  Use `get_waveform` instead.\n",
      "  warnings.warn('`get_sample_pulse` has been deprecated. '\n",
      "/Users/thomas/opt/anaconda3/envs/qiskit-3.8/lib/python3.8/site-packages/qiskit/pulse/library/parametric_pulses.py:77: DeprecationWarning: `get_sample_pulse` has been deprecated.  Use `get_waveform` instead.\n",
      "  warnings.warn('`get_sample_pulse` has been deprecated. '\n",
      "/Users/thomas/opt/anaconda3/envs/qiskit-3.8/lib/python3.8/site-packages/qiskit/pulse/library/parametric_pulses.py:77: DeprecationWarning: `get_sample_pulse` has been deprecated.  Use `get_waveform` instead.\n",
      "  warnings.warn('`get_sample_pulse` has been deprecated. '\n",
      "/Users/thomas/opt/anaconda3/envs/qiskit-3.8/lib/python3.8/site-packages/qiskit/pulse/library/parametric_pulses.py:77: DeprecationWarning: `get_sample_pulse` has been deprecated.  Use `get_waveform` instead.\n",
      "  warnings.warn('`get_sample_pulse` has been deprecated. '\n",
      "/Users/thomas/opt/anaconda3/envs/qiskit-3.8/lib/python3.8/site-packages/qiskit/pulse/library/parametric_pulses.py:77: DeprecationWarning: `get_sample_pulse` has been deprecated.  Use `get_waveform` instead.\n",
      "  warnings.warn('`get_sample_pulse` has been deprecated. '\n",
      "/Users/thomas/opt/anaconda3/envs/qiskit-3.8/lib/python3.8/site-packages/qiskit/pulse/library/parametric_pulses.py:77: DeprecationWarning: `get_sample_pulse` has been deprecated.  Use `get_waveform` instead.\n",
      "  warnings.warn('`get_sample_pulse` has been deprecated. '\n",
      "/Users/thomas/opt/anaconda3/envs/qiskit-3.8/lib/python3.8/site-packages/qiskit/pulse/library/parametric_pulses.py:77: DeprecationWarning: `get_sample_pulse` has been deprecated.  Use `get_waveform` instead.\n",
      "  warnings.warn('`get_sample_pulse` has been deprecated. '\n",
      "/Users/thomas/opt/anaconda3/envs/qiskit-3.8/lib/python3.8/site-packages/qiskit/pulse/library/parametric_pulses.py:77: DeprecationWarning: `get_sample_pulse` has been deprecated.  Use `get_waveform` instead.\n",
      "  warnings.warn('`get_sample_pulse` has been deprecated. '\n",
      "/Users/thomas/opt/anaconda3/envs/qiskit-3.8/lib/python3.8/site-packages/qiskit/pulse/library/parametric_pulses.py:77: DeprecationWarning: `get_sample_pulse` has been deprecated.  Use `get_waveform` instead.\n",
      "  warnings.warn('`get_sample_pulse` has been deprecated. '\n",
      "/Users/thomas/opt/anaconda3/envs/qiskit-3.8/lib/python3.8/site-packages/qiskit/pulse/library/parametric_pulses.py:77: DeprecationWarning: `get_sample_pulse` has been deprecated.  Use `get_waveform` instead.\n",
      "  warnings.warn('`get_sample_pulse` has been deprecated. '\n",
      "/Users/thomas/opt/anaconda3/envs/qiskit-3.8/lib/python3.8/site-packages/qiskit/pulse/library/parametric_pulses.py:77: DeprecationWarning: `get_sample_pulse` has been deprecated.  Use `get_waveform` instead.\n",
      "  warnings.warn('`get_sample_pulse` has been deprecated. '\n",
      "/Users/thomas/opt/anaconda3/envs/qiskit-3.8/lib/python3.8/site-packages/qiskit/pulse/library/parametric_pulses.py:77: DeprecationWarning: `get_sample_pulse` has been deprecated.  Use `get_waveform` instead.\n",
      "  warnings.warn('`get_sample_pulse` has been deprecated. '\n"
     ]
    }
   ],
   "source": [
    "bell_qobj = assemble(bell_sched, backend=sim)"
   ]
  },
  {
   "cell_type": "code",
   "execution_count": 32,
   "metadata": {},
   "outputs": [],
   "source": [
    "job = sim.run(bell_qobj, system_model=orig_model_2q)"
   ]
  },
  {
   "cell_type": "code",
   "execution_count": 33,
   "metadata": {},
   "outputs": [],
   "source": [
    "result = job.result()"
   ]
  },
  {
   "cell_type": "code",
   "execution_count": 34,
   "metadata": {},
   "outputs": [
    {
     "data": {
      "text/plain": [
       "{'00': 1024}"
      ]
     },
     "execution_count": 34,
     "metadata": {},
     "output_type": "execute_result"
    }
   ],
   "source": [
    "result.get_counts()"
   ]
  },
  {
   "cell_type": "markdown",
   "metadata": {},
   "source": [
    "## Modified Model"
   ]
  },
  {
   "cell_type": "code",
   "execution_count": 35,
   "metadata": {},
   "outputs": [],
   "source": [
    "new_backend_2q = copy.deepcopy(backend_2q)"
   ]
  },
  {
   "cell_type": "code",
   "execution_count": 36,
   "metadata": {},
   "outputs": [],
   "source": [
    "new_config_2q = new_backend_2q.configuration()\n",
    "new_defaults_2q = new_backend_2q.defaults()"
   ]
  },
  {
   "cell_type": "code",
   "execution_count": 37,
   "metadata": {},
   "outputs": [
    {
     "name": "stdout",
     "output_type": "stream",
     "text": [
      "['_SUM[i,0,64,wq{i}/2*(I{i}-Z{i})]', '_SUM[i,0,64,delta{i}/2*O{i}*O{i}]', '_SUM[i,0,64,-delta{i}/2*O{i}]', '_SUM[i,0,64,omegad{i}*X{i}||D{i}]', 'jq42q43*Sp42*Sm43', 'jq42q43*Sm42*Sp43', 'jq22q23*Sp22*Sm23', 'jq22q23*Sm22*Sp23', 'jq36q37*Sp36*Sm37', 'jq36q37*Sm36*Sp37', 'jq28q29*Sp28*Sm29', 'jq28q29*Sm28*Sp29', 'jq53q60*Sp53*Sm60', 'jq53q60*Sm53*Sp60', 'jq61q62*Sp61*Sm62', 'jq61q62*Sm61*Sp62', 'jq5q6*Sp5*Sm6', 'jq5q6*Sm5*Sp6', 'jq8q9*Sp8*Sm9', 'jq8q9*Sm8*Sp9', 'jq34q35*Sp34*Sm35', 'jq34q35*Sm34*Sp35', 'jq18q19*Sp18*Sm19', 'jq18q19*Sm18*Sp19', 'jq23q26*Sp23*Sm26', 'jq23q26*Sm23*Sp26', 'jq0q10*Sp0*Sm10', 'jq0q10*Sm0*Sp10', 'jq51q54*Sp51*Sm54', 'jq51q54*Sm51*Sp54', 'jq59q60*Sp59*Sm60', 'jq59q60*Sm59*Sp60', 'jq30q31*Sp30*Sm31', 'jq30q31*Sm30*Sp31', 'jq46q47*Sp46*Sm47', 'jq46q47*Sm46*Sp47', 'jq31q32*Sp31*Sm32', 'jq31q32*Sm31*Sp32', 'jq63q64*Sp63*Sm64', 'jq63q64*Sm63*Sp64', 'jq49q50*Sp49*Sm50', 'jq49q50*Sm49*Sp50', 'jq1q2*Sp1*Sm2', 'jq1q2*Sm1*Sp2', 'jq16q17*Sp16*Sm17', 'jq16q17*Sm16*Sp17', 'jq32q33*Sp32*Sm33', 'jq32q33*Sm32*Sp33', 'jq6q7*Sp6*Sm7', 'jq6q7*Sm6*Sp7', 'jq58q59*Sp58*Sm59', 'jq58q59*Sm58*Sp59', 'jq44q45*Sp44*Sm45', 'jq44q45*Sm44*Sp45', 'jq20q21*Sp20*Sm21', 'jq20q21*Sm20*Sp21', 'jq47q53*Sp47*Sm53', 'jq47q53*Sm47*Sp53', 'jq39q45*Sp39*Sm45', 'jq39q45*Sm39*Sp45', 'jq56q57*Sp56*Sm57', 'jq56q57*Sm56*Sp57', 'jq35q40*Sp35*Sm40', 'jq35q40*Sm35*Sp40', 'jq19q25*Sp19*Sm25', 'jq19q25*Sm19*Sp25', 'jq3q4*Sp3*Sm4', 'jq3q4*Sm3*Sp4', 'jq27q28*Sp27*Sm28', 'jq27q28*Sm27*Sp28', 'jq35q36*Sp35*Sm36', 'jq35q36*Sm35*Sp36', 'jq47q48*Sp47*Sm48', 'jq47q48*Sm47*Sp48', 'jq54q64*Sp54*Sm64', 'jq54q64*Sm54*Sp64', 'jq12q21*Sp12*Sm21', 'jq12q21*Sm12*Sp21', 'jq38q41*Sp38*Sm41', 'jq38q41*Sm38*Sp41', 'jq31q39*Sp31*Sm39', 'jq31q39*Sm31*Sp39', 'jq60q61*Sp60*Sm61', 'jq60q61*Sm60*Sp61', 'jq4q5*Sp4*Sm5', 'jq4q5*Sm4*Sp5', 'jq29q30*Sp29*Sm30', 'jq29q30*Sm29*Sp30', 'jq10q13*Sp10*Sm13', 'jq10q13*Sm10*Sp13', 'jq41q42*Sp41*Sm42', 'jq41q42*Sm41*Sp42', 'jq26q37*Sp26*Sm37', 'jq26q37*Sm26*Sp37', 'jq50q51*Sp50*Sm51', 'jq50q51*Sm50*Sp51', 'jq2q3*Sp2*Sm3', 'jq2q3*Sm2*Sp3', 'jq14q15*Sp14*Sm15', 'jq14q15*Sm14*Sp15', 'jq62q63*Sp62*Sm63', 'jq62q63*Sm62*Sp63', 'jq40q49*Sp40*Sm49', 'jq40q49*Sm40*Sp49', 'jq19q20*Sp19*Sm20', 'jq19q20*Sm19*Sp20', 'jq55q56*Sp55*Sm56', 'jq55q56*Sm55*Sp56', 'jq4q11*Sp4*Sm11', 'jq4q11*Sm4*Sp11', 'jq43q44*Sp43*Sm44', 'jq43q44*Sm43*Sp44', 'jq48q49*Sp48*Sm49', 'jq48q49*Sm48*Sp49', 'jq33q34*Sp33*Sm34', 'jq33q34*Sm33*Sp34', 'jq0q1*Sp0*Sm1', 'jq0q1*Sm0*Sp1', 'jq17q18*Sp17*Sm18', 'jq17q18*Sm17*Sp18', 'jq7q8*Sp7*Sm8', 'jq7q8*Sm7*Sp8', 'jq11q17*Sp11*Sm17', 'jq11q17*Sm11*Sp17', 'jq15q24*Sp15*Sm24', 'jq15q24*Sm15*Sp24', 'jq8q12*Sp8*Sm12', 'jq8q12*Sm8*Sp12', 'jq45q46*Sp45*Sm46', 'jq45q46*Sm45*Sp46', 'jq52q56*Sp52*Sm56', 'jq52q56*Sm52*Sp56', 'jq24q29*Sp24*Sm29', 'jq24q29*Sm24*Sp29', 'jq13q14*Sp13*Sm14', 'jq13q14*Sm13*Sp14', 'jq21q22*Sp21*Sm22', 'jq21q22*Sm21*Sp22', 'jq27q38*Sp27*Sm38', 'jq27q38*Sm27*Sp38', 'jq57q58*Sp57*Sm58', 'jq57q58*Sm57*Sp58', 'jq43q52*Sp43*Sm52', 'jq43q52*Sm43*Sp52', 'jq25q33*Sp25*Sm33', 'jq25q33*Sm25*Sp33', 'jq15q16*Sp15*Sm16', 'jq15q16*Sm15*Sp16', 'omegad1*X0||U0', 'omegad10*X0||U1', 'omegad0*X1||U2', 'omegad2*X1||U3', 'omegad1*X2||U4', 'omegad3*X2||U5', 'omegad4*X3||U7', 'omegad2*X3||U6', 'omegad5*X4||U9', 'omegad3*X4||U8', 'omegad11*X4||U10', 'omegad4*X5||U11', 'omegad6*X5||U12', 'omegad7*X6||U14', 'omegad5*X6||U13', 'omegad6*X7||U15', 'omegad8*X7||U16', 'omegad12*X8||U19', 'omegad9*X8||U18', 'omegad7*X8||U17', 'omegad8*X9||U20', 'omegad0*X10||U21', 'omegad13*X10||U22', 'omegad4*X11||U23', 'omegad17*X11||U24', 'omegad21*X12||U26', 'omegad8*X12||U25', 'omegad10*X13||U27', 'omegad14*X13||U28', 'omegad15*X14||U30', 'omegad13*X14||U29', 'omegad24*X15||U33', 'omegad14*X15||U31', 'omegad16*X15||U32', 'omegad15*X16||U34', 'omegad17*X16||U35', 'omegad18*X17||U38', 'omegad16*X17||U37', 'omegad11*X17||U36', 'omegad19*X18||U40', 'omegad17*X18||U39', 'omegad18*X19||U41', 'omegad25*X19||U43', 'omegad20*X19||U42', 'omegad21*X20||U45', 'omegad19*X20||U44', 'omegad20*X21||U47', 'omegad12*X21||U46', 'omegad22*X21||U48', 'omegad23*X22||U50', 'omegad21*X22||U49', 'omegad26*X23||U52', 'omegad22*X23||U51', 'omegad15*X24||U53', 'omegad29*X24||U54', 'omegad33*X25||U56', 'omegad19*X25||U55', 'omegad37*X26||U58', 'omegad23*X26||U57', 'omegad28*X27||U59', 'omegad38*X27||U60', 'omegad29*X28||U62', 'omegad27*X28||U61', 'omegad24*X29||U63', 'omegad30*X29||U65', 'omegad28*X29||U64', 'omegad31*X30||U67', 'omegad29*X30||U66', 'omegad39*X31||U70', 'omegad30*X31||U68', 'omegad32*X31||U69', 'omegad33*X32||U72', 'omegad31*X32||U71', 'omegad32*X33||U74', 'omegad34*X33||U75', 'omegad25*X33||U73', 'omegad33*X34||U76', 'omegad35*X34||U77', 'omegad36*X35||U79', 'omegad34*X35||U78', 'omegad40*X35||U80', 'omegad37*X36||U82', 'omegad35*X36||U81', 'omegad26*X37||U83', 'omegad36*X37||U84', 'omegad41*X38||U86', 'omegad27*X38||U85', 'omegad45*X39||U88', 'omegad31*X39||U87', 'omegad35*X40||U89', 'omegad49*X40||U90', 'omegad42*X41||U92', 'omegad38*X41||U91', 'omegad43*X42||U94', 'omegad41*X42||U93', 'omegad52*X43||U97', 'omegad42*X43||U95', 'omegad44*X43||U96', 'omegad43*X44||U98', 'omegad45*X44||U99', 'omegad44*X45||U101', 'omegad39*X45||U100', 'omegad46*X45||U102', 'omegad45*X46||U103', 'omegad47*X46||U104', 'omegad48*X47||U106', 'omegad46*X47||U105', 'omegad53*X47||U107', 'omegad49*X48||U109', 'omegad47*X48||U108', 'omegad48*X49||U111', 'omegad40*X49||U110', 'omegad50*X49||U112', 'omegad51*X50||U114', 'omegad49*X50||U113', 'omegad50*X51||U115', 'omegad54*X51||U116', 'omegad56*X52||U118', 'omegad43*X52||U117', 'omegad47*X53||U119', 'omegad60*X53||U120', 'omegad64*X54||U122', 'omegad51*X54||U121', 'omegad56*X55||U123', 'omegad57*X56||U126', 'omegad52*X56||U124', 'omegad55*X56||U125', 'omegad56*X57||U127', 'omegad58*X57||U128', 'omegad59*X58||U130', 'omegad57*X58||U129', 'omegad58*X59||U131', 'omegad60*X59||U132', 'omegad59*X60||U134', 'omegad61*X60||U135', 'omegad53*X60||U133', 'omegad62*X61||U137', 'omegad60*X61||U136', 'omegad63*X62||U139', 'omegad61*X62||U138', 'omegad62*X63||U140', 'omegad64*X63||U141', 'omegad63*X64||U143', 'omegad54*X64||U142']\n",
      "{}\n",
      "{'delta0': -2.082409528201026, 'delta1': -2.108692153903296, 'delta10': -2.0955390950177173, 'delta11': -2.100958609864856, 'delta12': -2.0823524168566583, 'delta13': -2.079863390219936, 'delta14': -2.0986245342839465, 'delta15': -2.0913046165737534, 'delta16': -2.1147584685967837, 'delta17': -2.083431050881202, 'delta18': -2.0871760010235283, 'delta19': -2.079086146193932, 'delta2': -2.080054560307207, 'delta20': -2.0809593337496866, 'delta21': -2.0868952673573595, 'delta22': -2.081354695514319, 'delta23': -2.096787337379475, 'delta24': -2.0722106481259717, 'delta25': -2.080369744382093, 'delta26': -2.092116736278728, 'delta27': -2.0985738973098456, 'delta28': -2.0755414526932534, 'delta29': -2.0890822438286176, 'delta3': -2.0999212890853562, 'delta30': -2.08670780390729, 'delta31': -2.076201777361299, 'delta32': -2.070255050678703, 'delta33': -2.1040795888596437, 'delta34': -2.0877309202887857, 'delta35': -2.107373832439615, 'delta36': -2.079405179424301, 'delta37': -2.091835771162876, 'delta38': -2.075901371889025, 'delta39': -2.0904615623352276, 'delta4': -2.093628492226991, 'delta40': -2.1306861202665175, 'delta41': -2.0865518970755175, 'delta42': -2.1152611176603004, 'delta43': -2.0741726061075876, 'delta44': -2.093082321475129, 'delta45': -2.0852396753607954, 'delta46': -2.0829304635141854, 'delta47': -2.0805355428201646, 'delta48': -2.092295634525706, 'delta49': -2.0728983053097103, 'delta5': -2.1076108858437412, 'delta50': -2.086811512231418, 'delta51': -2.078875458274717, 'delta52': -2.0847345667675286, 'delta53': -2.1037851661025484, 'delta54': -2.1066228812119174, 'delta55': -2.0775332501812054, 'delta56': -2.0867337957738656, 'delta57': -2.120641152499985, 'delta58': -2.0857399265225287, 'delta59': -2.0776063293835523, 'delta6': -2.0896935883297525, 'delta60': -2.08902215551072, 'delta61': -2.1160016078860915, 'delta62': -2.089117798373012, 'delta63': -2.106330758762709, 'delta64': -2.090469682733742, 'delta7': -2.1008931274144858, 'delta8': -2.09572226614486, 'delta9': -2.081885599010024, 'jq0q1': 0.012293126322480197, 'jq0q10': 0.012506061323926414, 'jq10q13': 0.012445528646655686, 'jq11q17': 0.014292699740985727, 'jq12q21': 0.013420812572829672, 'jq13q14': 0.012806354710220087, 'jq14q15': 0.012455235392068503, 'jq15q16': 0.01392400194180702, 'jq15q24': 0.013824641378837092, 'jq16q17': 0.012025957844627774, 'jq17q18': 0.01296585887428978, 'jq18q19': 0.013479395190981156, 'jq19q20': 0.014721134228083887, 'jq19q25': 0.013361259873442314, 'jq1q2': 0.014257628792432683, 'jq20q21': 0.013718083908827651, 'jq21q22': 0.013070206591033964, 'jq22q23': 0.013192565295867128, 'jq23q26': 0.012334435215585887, 'jq24q29': 0.014622179654265583, 'jq25q33': 0.011912454565186921, 'jq26q37': 0.014236885627812433, 'jq27q28': 0.011835937472740586, 'jq27q38': 0.01253636713654229, 'jq28q29': 0.01251869485944329, 'jq29q30': 0.014432738193361454, 'jq2q3': 0.012749602059596514, 'jq30q31': 0.014817767976700003, 'jq31q32': 0.013864978685261379, 'jq31q39': 0.01269839045261408, 'jq32q33': 0.014014084477466687, 'jq33q34': 0.014006523303099622, 'jq34q35': 0.01417123882637102, 'jq35q36': 0.012256121671582123, 'jq35q40': 0.013791226499718482, 'jq36q37': 0.014636075023239822, 'jq38q41': 0.014205986579999483, 'jq39q45': 0.014673819712257608, 'jq3q4': 0.012988252166169719, 'jq40q49': 0.012321705512355174, 'jq41q42': 0.012203834781995035, 'jq42q43': 0.011744826069852273, 'jq43q44': 0.012387779554591777, 'jq43q52': 0.01318983211843102, 'jq44q45': 0.013440981657959898, 'jq45q46': 0.011177100670757341, 'jq46q47': 0.014317407226235642, 'jq47q48': 0.014282317803909025, 'jq47q53': 0.012241672335143047, 'jq48q49': 0.014084778609878017, 'jq49q50': 0.011997718139992678, 'jq4q11': 0.01359023012152749, 'jq4q5': 0.011436295161501919, 'jq50q51': 0.014022974065469465, 'jq51q54': 0.013100248864873943, 'jq52q56': 0.012232647573423192, 'jq53q60': 0.012325197151410994, 'jq54q64': 0.01384487521013418, 'jq55q56': 0.013812611788819809, 'jq56q57': 0.013923109255648576, 'jq57q58': 0.013408933599110447, 'jq58q59': 0.012615488355019093, 'jq59q60': 0.014347719071657588, 'jq5q6': 0.013696308053128872, 'jq60q61': 0.011701117396567696, 'jq61q62': 0.013949921276537719, 'jq62q63': 0.013207592452548331, 'jq63q64': 0.012358405647272436, 'jq6q7': 0.014084450205036876, 'jq7q8': 0.013883944784185722, 'jq8q12': 0.01199957126533062, 'jq8q9': 0.014509380006189681, 'omegad0': 0.6264334654141331, 'omegad1': 0.631419780468781, 'omegad10': 0.5838958897392943, 'omegad11': 0.6308713271394057, 'omegad12': 0.577503564913539, 'omegad13': 0.621186550330281, 'omegad14': 0.6314103673045489, 'omegad15': 0.6194148828480005, 'omegad16': 0.6172506451317867, 'omegad17': 0.6408159984890558, 'omegad18': 0.6539662011442007, 'omegad19': 0.6571884070536171, 'omegad2': 0.6462509921177902, 'omegad20': 0.6225908854162321, 'omegad21': 0.6281256705445246, 'omegad22': 0.6505071114174105, 'omegad23': 0.6314663125173828, 'omegad24': 0.6755771710927634, 'omegad25': 0.6390970302507333, 'omegad26': 0.624488427354995, 'omegad27': 0.6383556094430958, 'omegad28': 0.632392352711234, 'omegad29': 0.6237523585483957, 'omegad3': 0.6247568834796294, 'omegad30': 0.5990029085018763, 'omegad31': 0.691832194326318, 'omegad32': 0.6397724649390429, 'omegad33': 0.6467680503410944, 'omegad34': 0.6292330044107567, 'omegad35': 0.6527760514061987, 'omegad36': 0.6304489081165847, 'omegad37': 0.6484240812397363, 'omegad38': 0.6174642482347148, 'omegad39': 0.6042100651946496, 'omegad4': 0.6518965409608283, 'omegad40': 0.6809399557003484, 'omegad41': 0.6333505527453348, 'omegad42': 0.6394780970061896, 'omegad43': 0.6578790528145908, 'omegad44': 0.6446027768945113, 'omegad45': 0.6632369039074333, 'omegad46': 0.6664769053349452, 'omegad47': 0.6461540336265589, 'omegad48': 0.6627645941363857, 'omegad49': 0.6427112777770654, 'omegad5': 0.6371618432955588, 'omegad50': 0.4195236200078078, 'omegad51': 0.6148906289270932, 'omegad52': 0.659628706232431, 'omegad53': 0.6369133799550433, 'omegad54': 0.6375610604340113, 'omegad55': 0.6599938115114523, 'omegad56': 0.6880363237176307, 'omegad57': 0.5889289450590824, 'omegad58': 0.6544144936050909, 'omegad59': 0.6313064108503529, 'omegad6': 0.6524275002133507, 'omegad60': 0.6549005485267624, 'omegad61': 0.6325999361629198, 'omegad62': 0.6708595065367441, 'omegad63': 0.6599856427380789, 'omegad64': 0.6462098051481969, 'omegad7': 0.623283853270917, 'omegad8': 0.6481540054703282, 'omegad9': 0.6260563599396901, 'wq0': 30.399745270240917, 'wq1': 29.414023324047495, 'wq10': 29.45702295164569, 'wq11': 29.932471310478686, 'wq12': 31.03289594982276, 'wq13': 30.410808984437775, 'wq14': 29.312878947304345, 'wq15': 30.177759654767453, 'wq16': 29.212715402162154, 'wq17': 30.643159256542525, 'wq18': 30.266667630245426, 'wq19': 31.411388886673972, 'wq2': 31.079372864337696, 'wq20': 30.428998263148078, 'wq21': 30.030779004169027, 'wq22': 31.006470341087834, 'wq23': 30.141726299781823, 'wq24': 31.493417195835086, 'wq25': 30.528190301144534, 'wq26': 29.6597682398361, 'wq27': 30.157560417771204, 'wq28': 30.761130992353618, 'wq29': 30.069287167123655, 'wq3': 29.943909099482177, 'wq30': 30.726628159119226, 'wq31': 31.603435938696848, 'wq32': 30.775231606698934, 'wq33': 29.196204521312065, 'wq34': 30.038185020863885, 'wq35': 29.514436619192633, 'wq36': 31.23214832296972, 'wq37': 30.227802424158014, 'wq38': 31.227507184652485, 'wq39': 30.15619982459524, 'wq4': 29.59494515973018, 'wq40': 28.5565241723132, 'wq41': 30.16801259864324, 'wq42': 29.29834852095005, 'wq43': 30.0623888992328, 'wq44': 29.424714534819913, 'wq45': 30.98087846120028, 'wq46': 30.152547230257547, 'wq47': 30.695557754491958, 'wq48': 29.89351697171138, 'wq49': 29.28603085497892, 'wq5': 28.740616207040866, 'wq50': 30.04682803629074, 'wq51': 30.706902507301006, 'wq52': 30.78055425060818, 'wq53': 29.388650924276913, 'wq54': 29.547650368096427, 'wq55': 30.671120082634143, 'wq56': 30.130401423402283, 'wq57': 29.016323478818776, 'wq58': 30.0609014489172, 'wq59': 30.94212287735969, 'wq6': 29.897259611855304, 'wq60': 30.01533349358957, 'wq61': 29.161822871675696, 'wq62': 30.31867211510485, 'wq63': 29.51812390169834, 'wq64': 30.3611614860521, 'wq7': 29.09202400445621, 'wq8': 30.0226188177816, 'wq9': 30.971371542139835}\n"
     ]
    }
   ],
   "source": [
    "new_hamiltonian_2q = new_config_2q.hamiltonian\n",
    "print(new_hamiltonian_2q['h_str'])\n",
    "print(new_hamiltonian_2q['osc'])\n",
    "print(new_hamiltonian_2q['vars'])"
   ]
  },
  {
   "cell_type": "markdown",
   "metadata": {},
   "source": [
    "### Modifications"
   ]
  },
  {
   "cell_type": "code",
   "execution_count": 38,
   "metadata": {},
   "outputs": [
    {
     "data": {
      "text/plain": [
       "24586252.644960392"
      ]
     },
     "execution_count": 38,
     "metadata": {},
     "output_type": "execute_result"
    }
   ],
   "source": [
    "new_hamiltonian_2q['vars'] = {k: v*1e9 for k, v in new_hamiltonian_2q['vars'].items()}\n",
    "new_hamiltonian_2q['qub'] = {k: 3 for k in new_hamiltonian_2q['qub'].keys()}\n",
    "new_hamiltonian_2q['vars']['omegad0'] = new_hamiltonian_2q['vars']['omegad0']*2\n",
    "new_hamiltonian_2q['vars']['omegad1'] = new_hamiltonian_2q['vars']['omegad1']*2\n",
    "new_hamiltonian_2q['vars']['jq0q1'] = 2*new_hamiltonian_2q['vars']['jq0q1']\n",
    "new_hamiltonian_2q['vars']['jq0q1']"
   ]
  },
  {
   "cell_type": "code",
   "execution_count": 39,
   "metadata": {},
   "outputs": [],
   "source": [
    "new_model_2q = PulseSystemModel.from_backend(new_backend_2q, subsystem_list=[0, 1])"
   ]
  },
  {
   "cell_type": "code",
   "execution_count": 40,
   "metadata": {},
   "outputs": [
    {
     "name": "stderr",
     "output_type": "stream",
     "text": [
      "/Users/thomas/opt/anaconda3/envs/qiskit-3.8/lib/python3.8/site-packages/qiskit/pulse/library/parametric_pulses.py:77: DeprecationWarning: `get_sample_pulse` has been deprecated.  Use `get_waveform` instead.\n",
      "  warnings.warn('`get_sample_pulse` has been deprecated. '\n",
      "/Users/thomas/opt/anaconda3/envs/qiskit-3.8/lib/python3.8/site-packages/qiskit/pulse/library/parametric_pulses.py:77: DeprecationWarning: `get_sample_pulse` has been deprecated.  Use `get_waveform` instead.\n",
      "  warnings.warn('`get_sample_pulse` has been deprecated. '\n",
      "/Users/thomas/opt/anaconda3/envs/qiskit-3.8/lib/python3.8/site-packages/qiskit/pulse/library/parametric_pulses.py:77: DeprecationWarning: `get_sample_pulse` has been deprecated.  Use `get_waveform` instead.\n",
      "  warnings.warn('`get_sample_pulse` has been deprecated. '\n",
      "/Users/thomas/opt/anaconda3/envs/qiskit-3.8/lib/python3.8/site-packages/qiskit/pulse/library/parametric_pulses.py:77: DeprecationWarning: `get_sample_pulse` has been deprecated.  Use `get_waveform` instead.\n",
      "  warnings.warn('`get_sample_pulse` has been deprecated. '\n",
      "/Users/thomas/opt/anaconda3/envs/qiskit-3.8/lib/python3.8/site-packages/qiskit/pulse/library/parametric_pulses.py:77: DeprecationWarning: `get_sample_pulse` has been deprecated.  Use `get_waveform` instead.\n",
      "  warnings.warn('`get_sample_pulse` has been deprecated. '\n",
      "/Users/thomas/opt/anaconda3/envs/qiskit-3.8/lib/python3.8/site-packages/qiskit/pulse/library/parametric_pulses.py:77: DeprecationWarning: `get_sample_pulse` has been deprecated.  Use `get_waveform` instead.\n",
      "  warnings.warn('`get_sample_pulse` has been deprecated. '\n",
      "/Users/thomas/opt/anaconda3/envs/qiskit-3.8/lib/python3.8/site-packages/qiskit/pulse/library/parametric_pulses.py:77: DeprecationWarning: `get_sample_pulse` has been deprecated.  Use `get_waveform` instead.\n",
      "  warnings.warn('`get_sample_pulse` has been deprecated. '\n",
      "/Users/thomas/opt/anaconda3/envs/qiskit-3.8/lib/python3.8/site-packages/qiskit/pulse/library/parametric_pulses.py:77: DeprecationWarning: `get_sample_pulse` has been deprecated.  Use `get_waveform` instead.\n",
      "  warnings.warn('`get_sample_pulse` has been deprecated. '\n",
      "/Users/thomas/opt/anaconda3/envs/qiskit-3.8/lib/python3.8/site-packages/qiskit/pulse/library/parametric_pulses.py:77: DeprecationWarning: `get_sample_pulse` has been deprecated.  Use `get_waveform` instead.\n",
      "  warnings.warn('`get_sample_pulse` has been deprecated. '\n",
      "/Users/thomas/opt/anaconda3/envs/qiskit-3.8/lib/python3.8/site-packages/qiskit/pulse/library/parametric_pulses.py:77: DeprecationWarning: `get_sample_pulse` has been deprecated.  Use `get_waveform` instead.\n",
      "  warnings.warn('`get_sample_pulse` has been deprecated. '\n",
      "/Users/thomas/opt/anaconda3/envs/qiskit-3.8/lib/python3.8/site-packages/qiskit/pulse/library/parametric_pulses.py:77: DeprecationWarning: `get_sample_pulse` has been deprecated.  Use `get_waveform` instead.\n",
      "  warnings.warn('`get_sample_pulse` has been deprecated. '\n",
      "/Users/thomas/opt/anaconda3/envs/qiskit-3.8/lib/python3.8/site-packages/qiskit/pulse/library/parametric_pulses.py:77: DeprecationWarning: `get_sample_pulse` has been deprecated.  Use `get_waveform` instead.\n",
      "  warnings.warn('`get_sample_pulse` has been deprecated. '\n"
     ]
    }
   ],
   "source": [
    "bell_qobj = assemble(bell_sched, backend=sim)\n",
    "job = sim.run(bell_qobj, system_model=new_model_2q)"
   ]
  },
  {
   "cell_type": "code",
   "execution_count": 41,
   "metadata": {},
   "outputs": [
    {
     "data": {
      "image/png": "[encoded data removed]",
      "text/plain": [
       "<Figure size 1500x1800 with 1 Axes>"
      ]
     },
     "execution_count": 41,
     "metadata": {},
     "output_type": "execute_result"
    }
   ],
   "source": [
    "bell_sched.draw()"
   ]
  },
  {
   "cell_type": "code",
   "execution_count": 42,
   "metadata": {},
   "outputs": [],
   "source": [
    "result = job.result()"
   ]
  },
  {
   "cell_type": "code",
   "execution_count": 43,
   "metadata": {},
   "outputs": [
    {
     "data": {
      "text/plain": [
       "{'00': 408, '01': 245, '10': 233, '11': 138}"
      ]
     },
     "execution_count": 43,
     "metadata": {},
     "output_type": "execute_result"
    }
   ],
   "source": [
    "result.get_counts()"
   ]
  },
  {
   "cell_type": "code",
   "execution_count": 44,
   "metadata": {},
   "outputs": [],
   "source": [
    "exps = []\n",
    "n_exps = 25\n",
    "amps = np.linspace(0, 1.0, n_exps)\n",
    "for amp in amps:\n",
    "    with pulse.build(backend_2q) as exp:\n",
    "        pulse.play(pulse.GaussianSquare(duration=736, amp=amp, sigma=64, width=480), pulse.ControlChannel(2))\n",
    "        pulse.barrier(0)\n",
    "        pulse.measure_all()\n",
    "    exps.append(exp.exclude(channels=channels_to_drop))"
   ]
  },
  {
   "cell_type": "code",
   "execution_count": 45,
   "metadata": {},
   "outputs": [
    {
     "name": "stderr",
     "output_type": "stream",
     "text": [
      "/Users/thomas/opt/anaconda3/envs/qiskit-3.8/lib/python3.8/site-packages/qiskit/pulse/library/parametric_pulses.py:77: DeprecationWarning: `get_sample_pulse` has been deprecated.  Use `get_waveform` instead.\n",
      "  warnings.warn('`get_sample_pulse` has been deprecated. '\n",
      "/Users/thomas/opt/anaconda3/envs/qiskit-3.8/lib/python3.8/site-packages/qiskit/pulse/library/parametric_pulses.py:77: DeprecationWarning: `get_sample_pulse` has been deprecated.  Use `get_waveform` instead.\n",
      "  warnings.warn('`get_sample_pulse` has been deprecated. '\n",
      "/Users/thomas/opt/anaconda3/envs/qiskit-3.8/lib/python3.8/site-packages/qiskit/pulse/library/parametric_pulses.py:77: DeprecationWarning: `get_sample_pulse` has been deprecated.  Use `get_waveform` instead.\n",
      "  warnings.warn('`get_sample_pulse` has been deprecated. '\n",
      "/Users/thomas/opt/anaconda3/envs/qiskit-3.8/lib/python3.8/site-packages/qiskit/pulse/library/parametric_pulses.py:77: DeprecationWarning: `get_sample_pulse` has been deprecated.  Use `get_waveform` instead.\n",
      "  warnings.warn('`get_sample_pulse` has been deprecated. '\n",
      "/Users/thomas/opt/anaconda3/envs/qiskit-3.8/lib/python3.8/site-packages/qiskit/pulse/library/parametric_pulses.py:77: DeprecationWarning: `get_sample_pulse` has been deprecated.  Use `get_waveform` instead.\n",
      "  warnings.warn('`get_sample_pulse` has been deprecated. '\n",
      "/Users/thomas/opt/anaconda3/envs/qiskit-3.8/lib/python3.8/site-packages/qiskit/pulse/library/parametric_pulses.py:77: DeprecationWarning: `get_sample_pulse` has been deprecated.  Use `get_waveform` instead.\n",
      "  warnings.warn('`get_sample_pulse` has been deprecated. '\n",
      "/Users/thomas/opt/anaconda3/envs/qiskit-3.8/lib/python3.8/site-packages/qiskit/pulse/library/parametric_pulses.py:77: DeprecationWarning: `get_sample_pulse` has been deprecated.  Use `get_waveform` instead.\n",
      "  warnings.warn('`get_sample_pulse` has been deprecated. '\n",
      "/Users/thomas/opt/anaconda3/envs/qiskit-3.8/lib/python3.8/site-packages/qiskit/pulse/library/parametric_pulses.py:77: DeprecationWarning: `get_sample_pulse` has been deprecated.  Use `get_waveform` instead.\n",
      "  warnings.warn('`get_sample_pulse` has been deprecated. '\n",
      "/Users/thomas/opt/anaconda3/envs/qiskit-3.8/lib/python3.8/site-packages/qiskit/pulse/library/parametric_pulses.py:77: DeprecationWarning: `get_sample_pulse` has been deprecated.  Use `get_waveform` instead.\n",
      "  warnings.warn('`get_sample_pulse` has been deprecated. '\n",
      "/Users/thomas/opt/anaconda3/envs/qiskit-3.8/lib/python3.8/site-packages/qiskit/pulse/library/parametric_pulses.py:77: DeprecationWarning: `get_sample_pulse` has been deprecated.  Use `get_waveform` instead.\n",
      "  warnings.warn('`get_sample_pulse` has been deprecated. '\n",
      "/Users/thomas/opt/anaconda3/envs/qiskit-3.8/lib/python3.8/site-packages/qiskit/pulse/library/parametric_pulses.py:77: DeprecationWarning: `get_sample_pulse` has been deprecated.  Use `get_waveform` instead.\n",
      "  warnings.warn('`get_sample_pulse` has been deprecated. '\n",
      "/Users/thomas/opt/anaconda3/envs/qiskit-3.8/lib/python3.8/site-packages/qiskit/pulse/library/parametric_pulses.py:77: DeprecationWarning: `get_sample_pulse` has been deprecated.  Use `get_waveform` instead.\n",
      "  warnings.warn('`get_sample_pulse` has been deprecated. '\n",
      "/Users/thomas/opt/anaconda3/envs/qiskit-3.8/lib/python3.8/site-packages/qiskit/pulse/library/parametric_pulses.py:77: DeprecationWarning: `get_sample_pulse` has been deprecated.  Use `get_waveform` instead.\n",
      "  warnings.warn('`get_sample_pulse` has been deprecated. '\n",
      "/Users/thomas/opt/anaconda3/envs/qiskit-3.8/lib/python3.8/site-packages/qiskit/pulse/library/parametric_pulses.py:77: DeprecationWarning: `get_sample_pulse` has been deprecated.  Use `get_waveform` instead.\n",
      "  warnings.warn('`get_sample_pulse` has been deprecated. '\n",
      "/Users/thomas/opt/anaconda3/envs/qiskit-3.8/lib/python3.8/site-packages/qiskit/pulse/library/parametric_pulses.py:77: DeprecationWarning: `get_sample_pulse` has been deprecated.  Use `get_waveform` instead.\n",
      "  warnings.warn('`get_sample_pulse` has been deprecated. '\n",
      "/Users/thomas/opt/anaconda3/envs/qiskit-3.8/lib/python3.8/site-packages/qiskit/pulse/library/parametric_pulses.py:77: DeprecationWarning: `get_sample_pulse` has been deprecated.  Use `get_waveform` instead.\n",
      "  warnings.warn('`get_sample_pulse` has been deprecated. '\n",
      "/Users/thomas/opt/anaconda3/envs/qiskit-3.8/lib/python3.8/site-packages/qiskit/pulse/library/parametric_pulses.py:77: DeprecationWarning: `get_sample_pulse` has been deprecated.  Use `get_waveform` instead.\n",
      "  warnings.warn('`get_sample_pulse` has been deprecated. '\n",
      "/Users/thomas/opt/anaconda3/envs/qiskit-3.8/lib/python3.8/site-packages/qiskit/pulse/library/parametric_pulses.py:77: DeprecationWarning: `get_sample_pulse` has been deprecated.  Use `get_waveform` instead.\n",
      "  warnings.warn('`get_sample_pulse` has been deprecated. '\n",
      "/Users/thomas/opt/anaconda3/envs/qiskit-3.8/lib/python3.8/site-packages/qiskit/pulse/library/parametric_pulses.py:77: DeprecationWarning: `get_sample_pulse` has been deprecated.  Use `get_waveform` instead.\n",
      "  warnings.warn('`get_sample_pulse` has been deprecated. '\n",
      "/Users/thomas/opt/anaconda3/envs/qiskit-3.8/lib/python3.8/site-packages/qiskit/pulse/library/parametric_pulses.py:77: DeprecationWarning: `get_sample_pulse` has been deprecated.  Use `get_waveform` instead.\n",
      "  warnings.warn('`get_sample_pulse` has been deprecated. '\n",
      "/Users/thomas/opt/anaconda3/envs/qiskit-3.8/lib/python3.8/site-packages/qiskit/pulse/library/parametric_pulses.py:77: DeprecationWarning: `get_sample_pulse` has been deprecated.  Use `get_waveform` instead.\n",
      "  warnings.warn('`get_sample_pulse` has been deprecated. '\n",
      "/Users/thomas/opt/anaconda3/envs/qiskit-3.8/lib/python3.8/site-packages/qiskit/pulse/library/parametric_pulses.py:77: DeprecationWarning: `get_sample_pulse` has been deprecated.  Use `get_waveform` instead.\n",
      "  warnings.warn('`get_sample_pulse` has been deprecated. '\n",
      "/Users/thomas/opt/anaconda3/envs/qiskit-3.8/lib/python3.8/site-packages/qiskit/pulse/library/parametric_pulses.py:77: DeprecationWarning: `get_sample_pulse` has been deprecated.  Use `get_waveform` instead.\n",
      "  warnings.warn('`get_sample_pulse` has been deprecated. '\n",
      "/Users/thomas/opt/anaconda3/envs/qiskit-3.8/lib/python3.8/site-packages/qiskit/pulse/library/parametric_pulses.py:77: DeprecationWarning: `get_sample_pulse` has been deprecated.  Use `get_waveform` instead.\n",
      "  warnings.warn('`get_sample_pulse` has been deprecated. '\n",
      "/Users/thomas/opt/anaconda3/envs/qiskit-3.8/lib/python3.8/site-packages/qiskit/pulse/library/parametric_pulses.py:77: DeprecationWarning: `get_sample_pulse` has been deprecated.  Use `get_waveform` instead.\n",
      "  warnings.warn('`get_sample_pulse` has been deprecated. '\n",
      "/Users/thomas/opt/anaconda3/envs/qiskit-3.8/lib/python3.8/site-packages/qiskit/pulse/library/parametric_pulses.py:77: DeprecationWarning: `get_sample_pulse` has been deprecated.  Use `get_waveform` instead.\n",
      "  warnings.warn('`get_sample_pulse` has been deprecated. '\n",
      "/Users/thomas/opt/anaconda3/envs/qiskit-3.8/lib/python3.8/site-packages/qiskit/pulse/library/parametric_pulses.py:77: DeprecationWarning: `get_sample_pulse` has been deprecated.  Use `get_waveform` instead.\n",
      "  warnings.warn('`get_sample_pulse` has been deprecated. '\n",
      "/Users/thomas/opt/anaconda3/envs/qiskit-3.8/lib/python3.8/site-packages/qiskit/pulse/library/parametric_pulses.py:77: DeprecationWarning: `get_sample_pulse` has been deprecated.  Use `get_waveform` instead.\n",
      "  warnings.warn('`get_sample_pulse` has been deprecated. '\n",
      "/Users/thomas/opt/anaconda3/envs/qiskit-3.8/lib/python3.8/site-packages/qiskit/pulse/library/parametric_pulses.py:77: DeprecationWarning: `get_sample_pulse` has been deprecated.  Use `get_waveform` instead.\n",
      "  warnings.warn('`get_sample_pulse` has been deprecated. '\n",
      "/Users/thomas/opt/anaconda3/envs/qiskit-3.8/lib/python3.8/site-packages/qiskit/pulse/library/parametric_pulses.py:77: DeprecationWarning: `get_sample_pulse` has been deprecated.  Use `get_waveform` instead.\n",
      "  warnings.warn('`get_sample_pulse` has been deprecated. '\n",
      "/Users/thomas/opt/anaconda3/envs/qiskit-3.8/lib/python3.8/site-packages/qiskit/pulse/library/parametric_pulses.py:77: DeprecationWarning: `get_sample_pulse` has been deprecated.  Use `get_waveform` instead.\n",
      "  warnings.warn('`get_sample_pulse` has been deprecated. '\n",
      "/Users/thomas/opt/anaconda3/envs/qiskit-3.8/lib/python3.8/site-packages/qiskit/pulse/library/parametric_pulses.py:77: DeprecationWarning: `get_sample_pulse` has been deprecated.  Use `get_waveform` instead.\n",
      "  warnings.warn('`get_sample_pulse` has been deprecated. '\n",
      "/Users/thomas/opt/anaconda3/envs/qiskit-3.8/lib/python3.8/site-packages/qiskit/pulse/library/parametric_pulses.py:77: DeprecationWarning: `get_sample_pulse` has been deprecated.  Use `get_waveform` instead.\n",
      "  warnings.warn('`get_sample_pulse` has been deprecated. '\n",
      "/Users/thomas/opt/anaconda3/envs/qiskit-3.8/lib/python3.8/site-packages/qiskit/pulse/library/parametric_pulses.py:77: DeprecationWarning: `get_sample_pulse` has been deprecated.  Use `get_waveform` instead.\n",
      "  warnings.warn('`get_sample_pulse` has been deprecated. '\n",
      "/Users/thomas/opt/anaconda3/envs/qiskit-3.8/lib/python3.8/site-packages/qiskit/pulse/library/parametric_pulses.py:77: DeprecationWarning: `get_sample_pulse` has been deprecated.  Use `get_waveform` instead.\n",
      "  warnings.warn('`get_sample_pulse` has been deprecated. '\n",
      "/Users/thomas/opt/anaconda3/envs/qiskit-3.8/lib/python3.8/site-packages/qiskit/pulse/library/parametric_pulses.py:77: DeprecationWarning: `get_sample_pulse` has been deprecated.  Use `get_waveform` instead.\n",
      "  warnings.warn('`get_sample_pulse` has been deprecated. '\n",
      "/Users/thomas/opt/anaconda3/envs/qiskit-3.8/lib/python3.8/site-packages/qiskit/pulse/library/parametric_pulses.py:77: DeprecationWarning: `get_sample_pulse` has been deprecated.  Use `get_waveform` instead.\n",
      "  warnings.warn('`get_sample_pulse` has been deprecated. '\n",
      "/Users/thomas/opt/anaconda3/envs/qiskit-3.8/lib/python3.8/site-packages/qiskit/pulse/library/parametric_pulses.py:77: DeprecationWarning: `get_sample_pulse` has been deprecated.  Use `get_waveform` instead.\n",
      "  warnings.warn('`get_sample_pulse` has been deprecated. '\n",
      "/Users/thomas/opt/anaconda3/envs/qiskit-3.8/lib/python3.8/site-packages/qiskit/pulse/library/parametric_pulses.py:77: DeprecationWarning: `get_sample_pulse` has been deprecated.  Use `get_waveform` instead.\n",
      "  warnings.warn('`get_sample_pulse` has been deprecated. '\n",
      "/Users/thomas/opt/anaconda3/envs/qiskit-3.8/lib/python3.8/site-packages/qiskit/pulse/library/parametric_pulses.py:77: DeprecationWarning: `get_sample_pulse` has been deprecated.  Use `get_waveform` instead.\n",
      "  warnings.warn('`get_sample_pulse` has been deprecated. '\n",
      "/Users/thomas/opt/anaconda3/envs/qiskit-3.8/lib/python3.8/site-packages/qiskit/pulse/library/parametric_pulses.py:77: DeprecationWarning: `get_sample_pulse` has been deprecated.  Use `get_waveform` instead.\n",
      "  warnings.warn('`get_sample_pulse` has been deprecated. '\n",
      "/Users/thomas/opt/anaconda3/envs/qiskit-3.8/lib/python3.8/site-packages/qiskit/pulse/library/parametric_pulses.py:77: DeprecationWarning: `get_sample_pulse` has been deprecated.  Use `get_waveform` instead.\n",
      "  warnings.warn('`get_sample_pulse` has been deprecated. '\n",
      "/Users/thomas/opt/anaconda3/envs/qiskit-3.8/lib/python3.8/site-packages/qiskit/pulse/library/parametric_pulses.py:77: DeprecationWarning: `get_sample_pulse` has been deprecated.  Use `get_waveform` instead.\n",
      "  warnings.warn('`get_sample_pulse` has been deprecated. '\n",
      "/Users/thomas/opt/anaconda3/envs/qiskit-3.8/lib/python3.8/site-packages/qiskit/pulse/library/parametric_pulses.py:77: DeprecationWarning: `get_sample_pulse` has been deprecated.  Use `get_waveform` instead.\n",
      "  warnings.warn('`get_sample_pulse` has been deprecated. '\n",
      "/Users/thomas/opt/anaconda3/envs/qiskit-3.8/lib/python3.8/site-packages/qiskit/pulse/library/parametric_pulses.py:77: DeprecationWarning: `get_sample_pulse` has been deprecated.  Use `get_waveform` instead.\n",
      "  warnings.warn('`get_sample_pulse` has been deprecated. '\n",
      "/Users/thomas/opt/anaconda3/envs/qiskit-3.8/lib/python3.8/site-packages/qiskit/pulse/library/parametric_pulses.py:77: DeprecationWarning: `get_sample_pulse` has been deprecated.  Use `get_waveform` instead.\n",
      "  warnings.warn('`get_sample_pulse` has been deprecated. '\n",
      "/Users/thomas/opt/anaconda3/envs/qiskit-3.8/lib/python3.8/site-packages/qiskit/pulse/library/parametric_pulses.py:77: DeprecationWarning: `get_sample_pulse` has been deprecated.  Use `get_waveform` instead.\n",
      "  warnings.warn('`get_sample_pulse` has been deprecated. '\n",
      "/Users/thomas/opt/anaconda3/envs/qiskit-3.8/lib/python3.8/site-packages/qiskit/pulse/library/parametric_pulses.py:77: DeprecationWarning: `get_sample_pulse` has been deprecated.  Use `get_waveform` instead.\n",
      "  warnings.warn('`get_sample_pulse` has been deprecated. '\n",
      "/Users/thomas/opt/anaconda3/envs/qiskit-3.8/lib/python3.8/site-packages/qiskit/pulse/library/parametric_pulses.py:77: DeprecationWarning: `get_sample_pulse` has been deprecated.  Use `get_waveform` instead.\n",
      "  warnings.warn('`get_sample_pulse` has been deprecated. '\n",
      "/Users/thomas/opt/anaconda3/envs/qiskit-3.8/lib/python3.8/site-packages/qiskit/pulse/library/parametric_pulses.py:77: DeprecationWarning: `get_sample_pulse` has been deprecated.  Use `get_waveform` instead.\n",
      "  warnings.warn('`get_sample_pulse` has been deprecated. '\n",
      "/Users/thomas/opt/anaconda3/envs/qiskit-3.8/lib/python3.8/site-packages/qiskit/pulse/library/parametric_pulses.py:77: DeprecationWarning: `get_sample_pulse` has been deprecated.  Use `get_waveform` instead.\n",
      "  warnings.warn('`get_sample_pulse` has been deprecated. '\n",
      "/Users/thomas/opt/anaconda3/envs/qiskit-3.8/lib/python3.8/site-packages/qiskit/pulse/library/parametric_pulses.py:77: DeprecationWarning: `get_sample_pulse` has been deprecated.  Use `get_waveform` instead.\n",
      "  warnings.warn('`get_sample_pulse` has been deprecated. '\n",
      "/Users/thomas/opt/anaconda3/envs/qiskit-3.8/lib/python3.8/site-packages/qiskit/pulse/library/parametric_pulses.py:77: DeprecationWarning: `get_sample_pulse` has been deprecated.  Use `get_waveform` instead.\n",
      "  warnings.warn('`get_sample_pulse` has been deprecated. '\n",
      "/Users/thomas/opt/anaconda3/envs/qiskit-3.8/lib/python3.8/site-packages/qiskit/pulse/library/parametric_pulses.py:77: DeprecationWarning: `get_sample_pulse` has been deprecated.  Use `get_waveform` instead.\n",
      "  warnings.warn('`get_sample_pulse` has been deprecated. '\n",
      "/Users/thomas/opt/anaconda3/envs/qiskit-3.8/lib/python3.8/site-packages/qiskit/pulse/library/parametric_pulses.py:77: DeprecationWarning: `get_sample_pulse` has been deprecated.  Use `get_waveform` instead.\n",
      "  warnings.warn('`get_sample_pulse` has been deprecated. '\n",
      "/Users/thomas/opt/anaconda3/envs/qiskit-3.8/lib/python3.8/site-packages/qiskit/pulse/library/parametric_pulses.py:77: DeprecationWarning: `get_sample_pulse` has been deprecated.  Use `get_waveform` instead.\n",
      "  warnings.warn('`get_sample_pulse` has been deprecated. '\n",
      "/Users/thomas/opt/anaconda3/envs/qiskit-3.8/lib/python3.8/site-packages/qiskit/pulse/library/parametric_pulses.py:77: DeprecationWarning: `get_sample_pulse` has been deprecated.  Use `get_waveform` instead.\n",
      "  warnings.warn('`get_sample_pulse` has been deprecated. '\n",
      "/Users/thomas/opt/anaconda3/envs/qiskit-3.8/lib/python3.8/site-packages/qiskit/pulse/library/parametric_pulses.py:77: DeprecationWarning: `get_sample_pulse` has been deprecated.  Use `get_waveform` instead.\n",
      "  warnings.warn('`get_sample_pulse` has been deprecated. '\n",
      "/Users/thomas/opt/anaconda3/envs/qiskit-3.8/lib/python3.8/site-packages/qiskit/pulse/library/parametric_pulses.py:77: DeprecationWarning: `get_sample_pulse` has been deprecated.  Use `get_waveform` instead.\n",
      "  warnings.warn('`get_sample_pulse` has been deprecated. '\n",
      "/Users/thomas/opt/anaconda3/envs/qiskit-3.8/lib/python3.8/site-packages/qiskit/pulse/library/parametric_pulses.py:77: DeprecationWarning: `get_sample_pulse` has been deprecated.  Use `get_waveform` instead.\n",
      "  warnings.warn('`get_sample_pulse` has been deprecated. '\n",
      "/Users/thomas/opt/anaconda3/envs/qiskit-3.8/lib/python3.8/site-packages/qiskit/pulse/library/parametric_pulses.py:77: DeprecationWarning: `get_sample_pulse` has been deprecated.  Use `get_waveform` instead.\n",
      "  warnings.warn('`get_sample_pulse` has been deprecated. '\n",
      "/Users/thomas/opt/anaconda3/envs/qiskit-3.8/lib/python3.8/site-packages/qiskit/pulse/library/parametric_pulses.py:77: DeprecationWarning: `get_sample_pulse` has been deprecated.  Use `get_waveform` instead.\n",
      "  warnings.warn('`get_sample_pulse` has been deprecated. '\n",
      "/Users/thomas/opt/anaconda3/envs/qiskit-3.8/lib/python3.8/site-packages/qiskit/pulse/library/parametric_pulses.py:77: DeprecationWarning: `get_sample_pulse` has been deprecated.  Use `get_waveform` instead.\n",
      "  warnings.warn('`get_sample_pulse` has been deprecated. '\n",
      "/Users/thomas/opt/anaconda3/envs/qiskit-3.8/lib/python3.8/site-packages/qiskit/pulse/library/parametric_pulses.py:77: DeprecationWarning: `get_sample_pulse` has been deprecated.  Use `get_waveform` instead.\n",
      "  warnings.warn('`get_sample_pulse` has been deprecated. '\n",
      "/Users/thomas/opt/anaconda3/envs/qiskit-3.8/lib/python3.8/site-packages/qiskit/pulse/library/parametric_pulses.py:77: DeprecationWarning: `get_sample_pulse` has been deprecated.  Use `get_waveform` instead.\n",
      "  warnings.warn('`get_sample_pulse` has been deprecated. '\n",
      "/Users/thomas/opt/anaconda3/envs/qiskit-3.8/lib/python3.8/site-packages/qiskit/pulse/library/parametric_pulses.py:77: DeprecationWarning: `get_sample_pulse` has been deprecated.  Use `get_waveform` instead.\n",
      "  warnings.warn('`get_sample_pulse` has been deprecated. '\n",
      "/Users/thomas/opt/anaconda3/envs/qiskit-3.8/lib/python3.8/site-packages/qiskit/pulse/library/parametric_pulses.py:77: DeprecationWarning: `get_sample_pulse` has been deprecated.  Use `get_waveform` instead.\n",
      "  warnings.warn('`get_sample_pulse` has been deprecated. '\n",
      "/Users/thomas/opt/anaconda3/envs/qiskit-3.8/lib/python3.8/site-packages/qiskit/pulse/library/parametric_pulses.py:77: DeprecationWarning: `get_sample_pulse` has been deprecated.  Use `get_waveform` instead.\n",
      "  warnings.warn('`get_sample_pulse` has been deprecated. '\n",
      "/Users/thomas/opt/anaconda3/envs/qiskit-3.8/lib/python3.8/site-packages/qiskit/pulse/library/parametric_pulses.py:77: DeprecationWarning: `get_sample_pulse` has been deprecated.  Use `get_waveform` instead.\n",
      "  warnings.warn('`get_sample_pulse` has been deprecated. '\n",
      "/Users/thomas/opt/anaconda3/envs/qiskit-3.8/lib/python3.8/site-packages/qiskit/pulse/library/parametric_pulses.py:77: DeprecationWarning: `get_sample_pulse` has been deprecated.  Use `get_waveform` instead.\n",
      "  warnings.warn('`get_sample_pulse` has been deprecated. '\n",
      "/Users/thomas/opt/anaconda3/envs/qiskit-3.8/lib/python3.8/site-packages/qiskit/pulse/library/parametric_pulses.py:77: DeprecationWarning: `get_sample_pulse` has been deprecated.  Use `get_waveform` instead.\n",
      "  warnings.warn('`get_sample_pulse` has been deprecated. '\n",
      "/Users/thomas/opt/anaconda3/envs/qiskit-3.8/lib/python3.8/site-packages/qiskit/pulse/library/parametric_pulses.py:77: DeprecationWarning: `get_sample_pulse` has been deprecated.  Use `get_waveform` instead.\n",
      "  warnings.warn('`get_sample_pulse` has been deprecated. '\n",
      "/Users/thomas/opt/anaconda3/envs/qiskit-3.8/lib/python3.8/site-packages/qiskit/pulse/library/parametric_pulses.py:77: DeprecationWarning: `get_sample_pulse` has been deprecated.  Use `get_waveform` instead.\n",
      "  warnings.warn('`get_sample_pulse` has been deprecated. '\n",
      "/Users/thomas/opt/anaconda3/envs/qiskit-3.8/lib/python3.8/site-packages/qiskit/pulse/library/parametric_pulses.py:77: DeprecationWarning: `get_sample_pulse` has been deprecated.  Use `get_waveform` instead.\n",
      "  warnings.warn('`get_sample_pulse` has been deprecated. '\n",
      "/Users/thomas/opt/anaconda3/envs/qiskit-3.8/lib/python3.8/site-packages/qiskit/pulse/library/parametric_pulses.py:77: DeprecationWarning: `get_sample_pulse` has been deprecated.  Use `get_waveform` instead.\n",
      "  warnings.warn('`get_sample_pulse` has been deprecated. '\n"
     ]
    }
   ],
   "source": [
    "cr_rabi = assemble(exps, backend=sim)\n",
    "job = sim.run(cr_rabi, system_model=new_model_2q)"
   ]
  },
  {
   "cell_type": "code",
   "execution_count": 46,
   "metadata": {},
   "outputs": [],
   "source": [
    "result = job.result()"
   ]
  },
  {
   "cell_type": "code",
   "execution_count": 47,
   "metadata": {},
   "outputs": [],
   "source": [
    "counts = [result.get_counts(i).get('01', 0) for i in range(n_exps)]"
   ]
  },
  {
   "cell_type": "code",
   "execution_count": 48,
   "metadata": {},
   "outputs": [
    {
     "data": {
      "text/plain": [
       "[<matplotlib.lines.Line2D at 0x7fac50a4d400>]"
      ]
     },
     "execution_count": 48,
     "metadata": {},
     "output_type": "execute_result"
    },
    {
     "data": {
      "image/png": "[encoded data removed]",
      "text/plain": [
       "<Figure size 432x288 with 1 Axes>"
      ]
     },
     "metadata": {
      "needs_background": "light"
     },
     "output_type": "display_data"
    }
   ],
   "source": [
    "plt.plot(amps,counts)"
   ]
  }
 ],
 "metadata": {
  "kernelspec": {
   "display_name": "Python 3",
   "language": "python",
   "name": "python3"
  },
  "language_info": {
   "codemirror_mode": {
    "name": "ipython",
    "version": 3
   },
   "file_extension": ".py",
   "mimetype": "text/x-python",
   "name": "python",
   "nbconvert_exporter": "python",
   "pygments_lexer": "ipython3",
   "version": "3.8.5"
  }
 },
 "nbformat": 4,
 "nbformat_minor": 4
}
